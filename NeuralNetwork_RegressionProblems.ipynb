{
 "cells": [
  {
   "cell_type": "markdown",
   "metadata": {},
   "source": [
    "#### Regression Problems and Functional API\n",
    "Building a Neural Network for Regression Problems"
   ]
  },
  {
   "cell_type": "code",
   "execution_count": 2,
   "metadata": {},
   "outputs": [],
   "source": [
    "# import relevant libraries\n",
    "import os\n",
    "import numpy as np\n",
    "import scipy as sci\n",
    "import matplotlib\n",
    "import matplotlib.pyplot as plt\n",
    "import matplotlib.gridspec as gridspec\n",
    "import pandas as pd\n",
    "from scipy.optimize import curve_fit\n",
    "from lmfit import Parameters, Model\n",
    "import re\n",
    "import seaborn as sns\n",
    "import math\n",
    "from datetime import datetime\n",
    "# import the perceptron from sklearn\n",
    "from sklearn.linear_model import Perceptron\n",
    "from sklearn.metrics import accuracy_score\n",
    "import tensorflow as tf\n",
    "from tensorflow import keras"
   ]
  },
  {
   "cell_type": "code",
   "execution_count": 3,
   "metadata": {},
   "outputs": [
    {
     "name": "stderr",
     "output_type": "stream",
     "text": [
      "Downloading Cal. housing from https://ndownloader.figshare.com/files/5976036 to C:\\Users\\stark\\scikit_learn_data\n"
     ]
    }
   ],
   "source": [
    "# import the California Housing Dataset from the Sklean Database library\n",
    "from sklearn. datasets import fetch_california_housing\n",
    "housing = fetch_california_housing()"
   ]
  },
  {
   "cell_type": "markdown",
   "metadata": {},
   "source": [
    "Predict the prices of homes using 8 different predictors, 8 numerics predictive attributes\n",
    "##### Attribute Information\n",
    "- MedInc: median income in block\n",
    "- HouseAge: median house age in block\n",
    "- AveRooms: average number of rooms\n",
    "- AveBedrms: average number of bedrooms\n",
    "- Population: block population\n",
    "- AveOccup: average house occupancy\n",
    "- Latitude: house block latitude\n",
    "- Longitude: hose block longitude\n",
    "##### Target\n",
    "- Target Variable = median house value in units of 100,000 for California Districts"
   ]
  },
  {
   "cell_type": "code",
   "execution_count": 5,
   "metadata": {},
   "outputs": [
    {
     "name": "stdout",
     "output_type": "stream",
     "text": [
      "['MedInc', 'HouseAge', 'AveRooms', 'AveBedrms', 'Population', 'AveOccup', 'Latitude', 'Longitude']\n"
     ]
    }
   ],
   "source": [
    "# print the predictive attribute names\n",
    "print(housing.feature_names)"
   ]
  },
  {
   "cell_type": "code",
   "execution_count": 6,
   "metadata": {},
   "outputs": [],
   "source": [
    "# import the train/test split function for data\n",
    "from sklearn.model_selection import train_test_split\n",
    "# create the training, test, and validation data\n",
    "# 75% of data for training\n",
    "# 25% of data for validation\n",
    "X_train_full, X_test, y_train_full, y_test = train_test_split(housing.data, housing.target, random_state=42)\n",
    "X_train, X_valid, y_train, y_valid = train_test_split(X_train_full, y_train_full, random_state=42)"
   ]
  },
  {
   "cell_type": "code",
   "execution_count": 8,
   "metadata": {},
   "outputs": [],
   "source": [
    "# subtract mean from each of the values then divide by the variance\n",
    "# want all variables with mean of 0 to ahve variance of 1\n",
    "# standard procedure in machine learning models\n",
    "from sklearn.preprocessing import StandardScaler\n",
    "# fit the scaler on the training data\n",
    "# and transforming the validation and test datasets\n",
    "scaler  = StandardScaler()\n",
    "X_train = scaler.fit_transform(X_train)\n",
    "X_valid = scaler.transform(X_valid)\n",
    "X_test  = scaler.transform(X_test)"
   ]
  },
  {
   "cell_type": "code",
   "execution_count": 10,
   "metadata": {},
   "outputs": [],
   "source": [
    "# set the seed for re-producable results\n",
    "np.random.seed(42)\n",
    "tf.random.set_seed(42)"
   ]
  },
  {
   "cell_type": "code",
   "execution_count": 11,
   "metadata": {},
   "outputs": [
    {
     "data": {
      "text/plain": [
       "(11610, 8)"
      ]
     },
     "execution_count": 11,
     "metadata": {},
     "output_type": "execute_result"
    }
   ],
   "source": [
    "# shape of the data\n",
    "X_train.shape"
   ]
  },
  {
   "cell_type": "code",
   "execution_count": 12,
   "metadata": {},
   "outputs": [],
   "source": [
    "# initialize the model\n",
    "# 8-30-30-1 Neural Network\n",
    "model = keras.models.Sequential([\n",
    "    # 1st Hidden Layer 30 Neurons, with 8 inputs (8 predictive attributes)\n",
    "    keras.layers.Dense(30, activation=\"relu\", input_shape=[8]),\n",
    "    # 2nd Hidden Layer 20 Neurons, with 8 inputs (8 predictive attributes)\n",
    "    keras.layers.Dense(30, activation=\"relu\", input_shape=[8]),\n",
    "    # Output Layer, 1 Neuron, for the Target Variable (House Price)\n",
    "    keras.layers.Dense(1)\n",
    "])"
   ]
  },
  {
   "cell_type": "code",
   "execution_count": 18,
   "metadata": {},
   "outputs": [
    {
     "name": "stdout",
     "output_type": "stream",
     "text": [
      "Model: \"sequential\"\n",
      "_________________________________________________________________\n",
      "Layer (type)                 Output Shape              Param #   \n",
      "=================================================================\n",
      "dense (Dense)                (None, 30)                270       \n",
      "_________________________________________________________________\n",
      "dense_1 (Dense)              (None, 30)                930       \n",
      "_________________________________________________________________\n",
      "dense_2 (Dense)              (None, 1)                 31        \n",
      "=================================================================\n",
      "Total params: 1,231\n",
      "Trainable params: 1,231\n",
      "Non-trainable params: 0\n",
      "_________________________________________________________________\n"
     ]
    }
   ],
   "source": [
    "model.summary()"
   ]
  },
  {
   "cell_type": "code",
   "execution_count": 13,
   "metadata": {},
   "outputs": [],
   "source": [
    "# compile the model\n",
    "# loss function = mean squared error for regression problem\n",
    "# optimizer     = stochastic gradient descent (SGD) w/ learning rate (lr) = 1e-3\n",
    "# metrics       = mae (mean absolute error)\n",
    "model.compile(loss=\"mean_squared_error\",\n",
    "             optimizer=keras.optimizers.SGD(lr=1e-3),\n",
    "             metrics=['mae'])"
   ]
  },
  {
   "cell_type": "code",
   "execution_count": 14,
   "metadata": {},
   "outputs": [
    {
     "name": "stdout",
     "output_type": "stream",
     "text": [
      "Train on 11610 samples, validate on 3870 samples\n",
      "Epoch 1/20\n",
      "11610/11610 [==============================] - 1s 68us/sample - loss: 1.8423 - mae: 0.9996 - val_loss: 5.2165 - val_mae: 0.7085\n",
      "Epoch 2/20\n",
      "11610/11610 [==============================] - 0s 35us/sample - loss: 0.6876 - mae: 0.6101 - val_loss: 0.7732 - val_mae: 0.5748\n",
      "Epoch 3/20\n",
      "11610/11610 [==============================] - 0s 33us/sample - loss: 0.5954 - mae: 0.5625 - val_loss: 0.5446 - val_mae: 0.5328\n",
      "Epoch 4/20\n",
      "11610/11610 [==============================] - 0s 33us/sample - loss: 0.5553 - mae: 0.5392 - val_loss: 0.5425 - val_mae: 0.5220\n",
      "Epoch 5/20\n",
      "11610/11610 [==============================] - 0s 37us/sample - loss: 0.5268 - mae: 0.5245 - val_loss: 0.5539 - val_mae: 0.5070\n",
      "Epoch 6/20\n",
      "11610/11610 [==============================] - 0s 37us/sample - loss: 0.5049 - mae: 0.5124 - val_loss: 0.4701 - val_mae: 0.4929\n",
      "Epoch 7/20\n",
      "11610/11610 [==============================] - 0s 33us/sample - loss: 0.4852 - mae: 0.5009 - val_loss: 0.4562 - val_mae: 0.4863\n",
      "Epoch 8/20\n",
      "11610/11610 [==============================] - 0s 31us/sample - loss: 0.4706 - mae: 0.4934 - val_loss: 0.4452 - val_mae: 0.4753\n",
      "Epoch 9/20\n",
      "11610/11610 [==============================] - 0s 34us/sample - loss: 0.4576 - mae: 0.4854 - val_loss: 0.4406 - val_mae: 0.4688\n",
      "Epoch 10/20\n",
      "11610/11610 [==============================] - 0s 36us/sample - loss: 0.4476 - mae: 0.4797 - val_loss: 0.4185 - val_mae: 0.4608\n",
      "Epoch 11/20\n",
      "11610/11610 [==============================] - 0s 35us/sample - loss: 0.4388 - mae: 0.4748 - val_loss: 0.4285 - val_mae: 0.4612\n",
      "Epoch 12/20\n",
      "11610/11610 [==============================] - 0s 32us/sample - loss: 0.4313 - mae: 0.4703 - val_loss: 0.4071 - val_mae: 0.4540\n",
      "Epoch 13/20\n",
      "11610/11610 [==============================] - 0s 36us/sample - loss: 0.4252 - mae: 0.4665 - val_loss: 0.3998 - val_mae: 0.4509\n",
      "Epoch 14/20\n",
      "11610/11610 [==============================] - 0s 34us/sample - loss: 0.4198 - mae: 0.4636 - val_loss: 0.3970 - val_mae: 0.4510\n",
      "Epoch 15/20\n",
      "11610/11610 [==============================] - 0s 33us/sample - loss: 0.4152 - mae: 0.4611 - val_loss: 0.4115 - val_mae: 0.4508\n",
      "Epoch 16/20\n",
      "11610/11610 [==============================] - 0s 37us/sample - loss: 0.4109 - mae: 0.4591 - val_loss: 0.3849 - val_mae: 0.4436\n",
      "Epoch 17/20\n",
      "11610/11610 [==============================] - 0s 33us/sample - loss: 0.4073 - mae: 0.4567 - val_loss: 0.3862 - val_mae: 0.4398\n",
      "Epoch 18/20\n",
      "11610/11610 [==============================] - 0s 34us/sample - loss: 0.4037 - mae: 0.4544 - val_loss: 0.3907 - val_mae: 0.4388\n",
      "Epoch 19/20\n",
      "11610/11610 [==============================] - 0s 33us/sample - loss: 0.4003 - mae: 0.4521 - val_loss: 0.3751 - val_mae: 0.4353\n",
      "Epoch 20/20\n",
      "11610/11610 [==============================] - 0s 40us/sample - loss: 0.3974 - mae: 0.4506 - val_loss: 0.3711 - val_mae: 0.4336\n"
     ]
    }
   ],
   "source": [
    "# train and validate the model with 8 input parameters\n",
    "model_history = model.fit(X_train, y_train, epochs=20, validation_data=(X_valid,y_valid))"
   ]
  },
  {
   "cell_type": "code",
   "execution_count": 15,
   "metadata": {},
   "outputs": [
    {
     "name": "stdout",
     "output_type": "stream",
     "text": [
      "5160/5160 [==============================] - 0s 26us/sample - loss: 0.3943 - mae: 0.4491\n"
     ]
    }
   ],
   "source": [
    "# test the model\n",
    "mae_test = model.evaluate(X_test, y_test)"
   ]
  },
  {
   "cell_type": "code",
   "execution_count": 17,
   "metadata": {},
   "outputs": [
    {
     "data": {
      "text/plain": [
       "{'loss': [1.842287814894388,\n",
       "  0.6876290707830516,\n",
       "  0.5954174912612464,\n",
       "  0.555317384107271,\n",
       "  0.5268464727303163,\n",
       "  0.5048545410004697,\n",
       "  0.48524922602757825,\n",
       "  0.47059965303085877,\n",
       "  0.4576186016856546,\n",
       "  0.44759501115090883,\n",
       "  0.4388239886512231,\n",
       "  0.4313068900202801,\n",
       "  0.425223285180551,\n",
       "  0.4198354650016082,\n",
       "  0.4151782228785481,\n",
       "  0.4109330924085047,\n",
       "  0.4072806055590985,\n",
       "  0.403689338265566,\n",
       "  0.40026732729386916,\n",
       "  0.3974111809749012],\n",
       " 'mae': [0.9995966,\n",
       "  0.6101176,\n",
       "  0.5625325,\n",
       "  0.5392274,\n",
       "  0.5244746,\n",
       "  0.5124249,\n",
       "  0.5009327,\n",
       "  0.4934168,\n",
       "  0.48539588,\n",
       "  0.4797301,\n",
       "  0.47475812,\n",
       "  0.47030392,\n",
       "  0.4665292,\n",
       "  0.46359402,\n",
       "  0.46113855,\n",
       "  0.45905492,\n",
       "  0.45671204,\n",
       "  0.45440182,\n",
       "  0.45205772,\n",
       "  0.45057893],\n",
       " 'val_loss': [5.21652254272801,\n",
       "  0.7732014739390184,\n",
       "  0.5446313998649903,\n",
       "  0.5425263114831861,\n",
       "  0.5538931956663921,\n",
       "  0.47005418488221573,\n",
       "  0.45617069399480054,\n",
       "  0.44517576707579987,\n",
       "  0.4405699552260628,\n",
       "  0.41849467758984527,\n",
       "  0.42854676915077583,\n",
       "  0.4071472152952076,\n",
       "  0.39975927834825,\n",
       "  0.3970434130624283,\n",
       "  0.41145071408853356,\n",
       "  0.3849455679571906,\n",
       "  0.3862031369169245,\n",
       "  0.39065817880230047,\n",
       "  0.3750926842985227,\n",
       "  0.3711079798696577],\n",
       " 'val_mae': [0.708459,\n",
       "  0.5748371,\n",
       "  0.53282803,\n",
       "  0.52200484,\n",
       "  0.5069538,\n",
       "  0.49291232,\n",
       "  0.48634365,\n",
       "  0.4753051,\n",
       "  0.46877873,\n",
       "  0.46080807,\n",
       "  0.46121612,\n",
       "  0.45398474,\n",
       "  0.4508507,\n",
       "  0.45097807,\n",
       "  0.45080838,\n",
       "  0.4436046,\n",
       "  0.43979013,\n",
       "  0.43884856,\n",
       "  0.4352548,\n",
       "  0.43364903]}"
      ]
     },
     "execution_count": 17,
     "metadata": {},
     "output_type": "execute_result"
    }
   ],
   "source": [
    "# loss and accuracy\n",
    "model_history.history"
   ]
  },
  {
   "cell_type": "code",
   "execution_count": 20,
   "metadata": {},
   "outputs": [
    {
     "data": {
      "image/png": "[encoded data removed]",
      "text/plain": [
       "<Figure size 576x360 with 1 Axes>"
      ]
     },
     "metadata": {
      "needs_background": "light"
     },
     "output_type": "display_data"
    }
   ],
   "source": [
    "# plot the loss and accuracy\n",
    "pd.DataFrame(model_history.history).plot(figsize=(8,5))\n",
    "plt.grid(True)\n",
    "plt.gca().set_ylim(0,1)\n",
    "\n",
    "plt.show()"
   ]
  },
  {
   "cell_type": "code",
   "execution_count": 21,
   "metadata": {},
   "outputs": [],
   "source": [
    "# predictions with the model data\n",
    "X_new = X_test[:3]"
   ]
  },
  {
   "cell_type": "code",
   "execution_count": 23,
   "metadata": {},
   "outputs": [
    {
     "name": "stdout",
     "output_type": "stream",
     "text": [
      "[[0.52765495]\n",
      " [1.8847213 ]\n",
      " [3.3819158 ]]\n",
      "[0.477   0.458   5.00001]\n"
     ]
    }
   ],
   "source": [
    "y_pred = model.predict(X_new)\n",
    "print(y_pred)\n",
    "print(y_test[:3])"
   ]
  },
  {
   "cell_type": "code",
   "execution_count": 24,
   "metadata": {},
   "outputs": [],
   "source": [
    "del model\n",
    "keras.backend.clear_session()"
   ]
  },
  {
   "cell_type": "markdown",
   "metadata": {},
   "source": [
    "#### Functional API\n",
    "Not every neural network is sequential.  Some have complex topologies, with some have multiple inputs and/or multiple outputs.  There are both Wide and Deep Neural Networks. <br>\n",
    "Using functions to create the layers within a neural network and then use those functions to create complexity according to your need."
   ]
  },
  {
   "cell_type": "code",
   "execution_count": 25,
   "metadata": {},
   "outputs": [],
   "source": [
    "# creating each layer, 1-by-1\n",
    "input_ = keras.layers.Input(shape=X_train.shape[1:])\n",
    "hidden1 = keras.layers.Dense(30, activation=\"relu\")(input_)\n",
    "hidden2 = keras.layers.Dense(30, activation=\"relu\")(input_)\n",
    "concat = keras.layers.concatenate([input_, hidden2])\n",
    "output = keras.layers.Dense(1)(concat)\n",
    "model = keras.models.Model(inputs=[input_], outputs=[output])"
   ]
  },
  {
   "cell_type": "code",
   "execution_count": 26,
   "metadata": {},
   "outputs": [
    {
     "name": "stdout",
     "output_type": "stream",
     "text": [
      "Model: \"model\"\n",
      "__________________________________________________________________________________________________\n",
      "Layer (type)                    Output Shape         Param #     Connected to                     \n",
      "==================================================================================================\n",
      "input_1 (InputLayer)            [(None, 8)]          0                                            \n",
      "__________________________________________________________________________________________________\n",
      "dense_1 (Dense)                 (None, 30)           270         input_1[0][0]                    \n",
      "__________________________________________________________________________________________________\n",
      "concatenate (Concatenate)       (None, 38)           0           input_1[0][0]                    \n",
      "                                                                 dense_1[0][0]                    \n",
      "__________________________________________________________________________________________________\n",
      "dense_2 (Dense)                 (None, 1)            39          concatenate[0][0]                \n",
      "==================================================================================================\n",
      "Total params: 309\n",
      "Trainable params: 309\n",
      "Non-trainable params: 0\n",
      "__________________________________________________________________________________________________\n"
     ]
    }
   ],
   "source": [
    "model.summary()"
   ]
  },
  {
   "cell_type": "code",
   "execution_count": 27,
   "metadata": {},
   "outputs": [],
   "source": [
    "# compile the model, functional API\n",
    "# loss function = mean squared error for regression problem\n",
    "# optimizer     = stochastic gradient descent (SGD) w/ learning rate (lr) = 1e-3\n",
    "# metrics       = mae (mean absolute error)\n",
    "model.compile(loss=\"mean_squared_error\",\n",
    "             optimizer=keras.optimizers.SGD(lr=1e-3),\n",
    "             metrics=['mae'])"
   ]
  },
  {
   "cell_type": "code",
   "execution_count": 28,
   "metadata": {},
   "outputs": [
    {
     "name": "stdout",
     "output_type": "stream",
     "text": [
      "Train on 11610 samples, validate on 3870 samples\n",
      "Epoch 1/20\n",
      "11610/11610 [==============================] - 1s 76us/sample - loss: 1.8459 - mae: 0.9689 - val_loss: 0.7485 - val_mae: 0.5961\n",
      "Epoch 2/20\n",
      "11610/11610 [==============================] - 0s 33us/sample - loss: 0.6553 - mae: 0.5871 - val_loss: 0.6262 - val_mae: 0.5625\n",
      "Epoch 3/20\n",
      "11610/11610 [==============================] - 0s 41us/sample - loss: 0.6023 - mae: 0.5647 - val_loss: 0.5803 - val_mae: 0.5427\n",
      "Epoch 4/20\n",
      "11610/11610 [==============================] - 0s 32us/sample - loss: 0.5703 - mae: 0.5475 - val_loss: 0.5510 - val_mae: 0.5289\n",
      "Epoch 5/20\n",
      "11610/11610 [==============================] - 0s 32us/sample - loss: 0.5447 - mae: 0.5347 - val_loss: 0.5424 - val_mae: 0.5177\n",
      "Epoch 6/20\n",
      "11610/11610 [==============================] - 0s 34us/sample - loss: 0.5245 - mae: 0.5239 - val_loss: 0.5038 - val_mae: 0.5056\n",
      "Epoch 7/20\n",
      "11610/11610 [==============================] - 0s 33us/sample - loss: 0.5071 - mae: 0.5145 - val_loss: 0.4850 - val_mae: 0.4968\n",
      "Epoch 8/20\n",
      "11610/11610 [==============================] - 0s 31us/sample - loss: 0.4929 - mae: 0.5066 - val_loss: 0.4767 - val_mae: 0.4904\n",
      "Epoch 9/20\n",
      "11610/11610 [==============================] - 0s 32us/sample - loss: 0.4808 - mae: 0.5000 - val_loss: 0.4572 - val_mae: 0.4822\n",
      "Epoch 10/20\n",
      "11610/11610 [==============================] - 0s 32us/sample - loss: 0.4709 - mae: 0.4942 - val_loss: 0.4471 - val_mae: 0.4766\n",
      "Epoch 11/20\n",
      "11610/11610 [==============================] - 0s 35us/sample - loss: 0.4626 - mae: 0.4891 - val_loss: 0.4683 - val_mae: 0.4774\n",
      "Epoch 12/20\n",
      "11610/11610 [==============================] - 0s 34us/sample - loss: 0.4551 - mae: 0.4856 - val_loss: 0.4396 - val_mae: 0.4701\n",
      "Epoch 13/20\n",
      "11610/11610 [==============================] - 1s 47us/sample - loss: 0.4488 - mae: 0.4809 - val_loss: 0.4252 - val_mae: 0.4665\n",
      "Epoch 14/20\n",
      "11610/11610 [==============================] - 0s 32us/sample - loss: 0.4439 - mae: 0.4783 - val_loss: 0.4199 - val_mae: 0.4645\n",
      "Epoch 15/20\n",
      "11610/11610 [==============================] - 1s 47us/sample - loss: 0.4392 - mae: 0.4757 - val_loss: 0.4448 - val_mae: 0.4647\n",
      "Epoch 16/20\n",
      "11610/11610 [==============================] - 1s 44us/sample - loss: 0.4349 - mae: 0.4733 - val_loss: 0.4272 - val_mae: 0.4613\n",
      "Epoch 17/20\n",
      "11610/11610 [==============================] - 0s 34us/sample - loss: 0.4317 - mae: 0.4711 - val_loss: 0.4040 - val_mae: 0.4547\n",
      "Epoch 18/20\n",
      "11610/11610 [==============================] - 0s 32us/sample - loss: 0.4283 - mae: 0.4690 - val_loss: 0.4334 - val_mae: 0.4567\n",
      "Epoch 19/20\n",
      "11610/11610 [==============================] - 0s 31us/sample - loss: 0.4251 - mae: 0.4668 - val_loss: 0.4024 - val_mae: 0.4518\n",
      "Epoch 20/20\n",
      "11610/11610 [==============================] - 0s 33us/sample - loss: 0.4224 - mae: 0.4652 - val_loss: 0.4083 - val_mae: 0.4517\n"
     ]
    }
   ],
   "source": [
    "model_history = model.fit(X_train, y_train, epochs=20, validation_data=(X_valid, y_valid))"
   ]
  },
  {
   "cell_type": "code",
   "execution_count": 29,
   "metadata": {},
   "outputs": [
    {
     "name": "stdout",
     "output_type": "stream",
     "text": [
      "5160/5160 [==============================] - 0s 24us/sample - loss: 0.4238 - mae: 0.4620\n"
     ]
    }
   ],
   "source": [
    "mae_test = model.evaluate(X_test, y_test)"
   ]
  },
  {
   "cell_type": "code",
   "execution_count": 30,
   "metadata": {},
   "outputs": [
    {
     "data": {
      "text/plain": [
       "{'loss': [1.8458709972568055,\n",
       "  0.6553334464398466,\n",
       "  0.6023237559992521,\n",
       "  0.5702883195815468,\n",
       "  0.5446574921704489,\n",
       "  0.5245398230330889,\n",
       "  0.5071446386931991,\n",
       "  0.49291298670772843,\n",
       "  0.4808218670291802,\n",
       "  0.47093681735688503,\n",
       "  0.4625962803016748,\n",
       "  0.4551352273791541,\n",
       "  0.4488359736431066,\n",
       "  0.44390934461360343,\n",
       "  0.43916674650865417,\n",
       "  0.4349451978796007,\n",
       "  0.4316951883804377,\n",
       "  0.42833183965325666,\n",
       "  0.42512546780805566,\n",
       "  0.42243541857992956],\n",
       " 'mae': [0.96893233,\n",
       "  0.58711433,\n",
       "  0.56466067,\n",
       "  0.54749644,\n",
       "  0.53470075,\n",
       "  0.52392,\n",
       "  0.5144558,\n",
       "  0.5065543,\n",
       "  0.5000429,\n",
       "  0.4942117,\n",
       "  0.48907363,\n",
       "  0.48557973,\n",
       "  0.4809108,\n",
       "  0.47830707,\n",
       "  0.47570795,\n",
       "  0.47327843,\n",
       "  0.47112715,\n",
       "  0.46895075,\n",
       "  0.4667586,\n",
       "  0.46518344],\n",
       " 'val_loss': [0.7484555007875427,\n",
       "  0.6261715594573231,\n",
       "  0.5803355452780268,\n",
       "  0.5510065180463692,\n",
       "  0.5424113918336478,\n",
       "  0.5038375337148514,\n",
       "  0.4849521453682458,\n",
       "  0.4767435250510233,\n",
       "  0.4571843414420613,\n",
       "  0.4470886703994539,\n",
       "  0.4682938108379527,\n",
       "  0.43958756979121716,\n",
       "  0.42523950580170605,\n",
       "  0.41992220502029093,\n",
       "  0.44482135456199795,\n",
       "  0.4271521995464961,\n",
       "  0.40401598185069804,\n",
       "  0.43335097933462424,\n",
       "  0.40238181187816985,\n",
       "  0.4083017485625368],\n",
       " 'val_mae': [0.5961095,\n",
       "  0.56252396,\n",
       "  0.5427028,\n",
       "  0.5289355,\n",
       "  0.51771057,\n",
       "  0.5056155,\n",
       "  0.4967865,\n",
       "  0.49042764,\n",
       "  0.48218337,\n",
       "  0.4766271,\n",
       "  0.4774358,\n",
       "  0.4700966,\n",
       "  0.46654364,\n",
       "  0.46449974,\n",
       "  0.46467632,\n",
       "  0.46125174,\n",
       "  0.45470676,\n",
       "  0.45666558,\n",
       "  0.45180938,\n",
       "  0.4516666]}"
      ]
     },
     "execution_count": 30,
     "metadata": {},
     "output_type": "execute_result"
    }
   ],
   "source": [
    "model_history.history"
   ]
  },
  {
   "cell_type": "code",
   "execution_count": 32,
   "metadata": {},
   "outputs": [
    {
     "data": {
      "image/png": "[encoded data removed]",
      "text/plain": [
       "<Figure size 576x360 with 1 Axes>"
      ]
     },
     "metadata": {
      "needs_background": "light"
     },
     "output_type": "display_data"
    }
   ],
   "source": [
    "# plot the loss and accuracy\n",
    "pd.DataFrame(model_history.history).plot(figsize=(8,5))\n",
    "plt.grid(True)\n",
    "plt.gca().set_ylim(0,1)\n",
    "\n",
    "plt.show()"
   ]
  },
  {
   "cell_type": "markdown",
   "metadata": {},
   "source": [
    "#### Saving and Restoring"
   ]
  },
  {
   "cell_type": "code",
   "execution_count": 33,
   "metadata": {},
   "outputs": [],
   "source": [
    "model.save(\"my_first_model.h5\")"
   ]
  },
  {
   "cell_type": "code",
   "execution_count": 34,
   "metadata": {},
   "outputs": [
    {
     "data": {
      "text/plain": [
       "'C:\\\\Users\\\\stark\\\\Documents'"
      ]
     },
     "execution_count": 34,
     "metadata": {},
     "output_type": "execute_result"
    }
   ],
   "source": [
    "%pwd"
   ]
  },
  {
   "cell_type": "code",
   "execution_count": null,
   "metadata": {},
   "outputs": [],
   "source": []
  }
 ],
 "metadata": {
  "kernelspec": {
   "display_name": "Python 3",
   "language": "python",
   "name": "python3"
  },
  "language_info": {
   "codemirror_mode": {
    "name": "ipython",
    "version": 3
   },
   "file_extension": ".py",
   "mimetype": "text/x-python",
   "name": "python",
   "nbconvert_exporter": "python",
   "pygments_lexer": "ipython3",
   "version": "3.7.4"
  }
 },
 "nbformat": 4,
 "nbformat_minor": 4
}
