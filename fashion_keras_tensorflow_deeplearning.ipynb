{
 "cells": [
  {
   "cell_type": "markdown",
   "metadata": {},
   "source": [
    "#### Keras Fashion Dataset Deep-Learning Neural Network"
   ]
  },
  {
   "cell_type": "code",
   "execution_count": 1,
   "metadata": {},
   "outputs": [],
   "source": [
    "# import relevant libraries\n",
    "import os\n",
    "import numpy as np\n",
    "import scipy as sci\n",
    "import matplotlib\n",
    "import matplotlib.pyplot as plt\n",
    "#import matplotlib.axes as ax\n",
    "import matplotlib.gridspec as gridspec\n",
    "import pandas as pd\n",
    "from scipy.optimize import curve_fit\n",
    "from lmfit import Parameters, Model\n",
    "import re\n",
    "import seaborn as sns\n",
    "import math\n",
    "from datetime import datetime\n",
    "# import the perceptron from sklearn\n",
    "from sklearn.linear_model import Perceptron\n",
    "from sklearn.metrics import accuracy_score\n",
    "import tensorflow as tf\n",
    "from tensorflow import keras"
   ]
  },
  {
   "cell_type": "code",
   "execution_count": 2,
   "metadata": {},
   "outputs": [],
   "source": [
    "# import the keras fashion dataset\n",
    "from tensorflow.keras.datasets import fashion_mnist"
   ]
  },
  {
   "cell_type": "code",
   "execution_count": 3,
   "metadata": {},
   "outputs": [],
   "source": [
    "fashion_mnist = fashion_mnist\n",
    "(X_train_full, y_train_full), (X_test, y_test) = fashion_mnist.load_data()"
   ]
  },
  {
   "cell_type": "code",
   "execution_count": 4,
   "metadata": {},
   "outputs": [
    {
     "data": {
      "text/plain": [
       "<matplotlib.image.AxesImage at 0x1cf438b9a88>"
      ]
     },
     "execution_count": 4,
     "metadata": {},
     "output_type": "execute_result"
    },
    {
     "data": {
      "image/png": "[encoded data removed]",
      "text/plain": [
       "<Figure size 432x288 with 1 Axes>"
      ]
     },
     "metadata": {
      "needs_background": "light"
     },
     "output_type": "display_data"
    }
   ],
   "source": [
    "plt.imshow(X_train_full[1])"
   ]
  },
  {
   "cell_type": "code",
   "execution_count": 5,
   "metadata": {},
   "outputs": [
    {
     "data": {
      "text/plain": [
       "0"
      ]
     },
     "execution_count": 5,
     "metadata": {},
     "output_type": "execute_result"
    }
   ],
   "source": [
    "y_train_full[1]"
   ]
  },
  {
   "cell_type": "code",
   "execution_count": 6,
   "metadata": {},
   "outputs": [],
   "source": [
    "class_names = [\"T-shirt/top\", \"Trouser\", \"Pullover\", \"Dress\", \"Coat\", \n",
    "              \"Sandal\", \"Shirt\", \"Sneaker\", \"Bag\", \"Ankle Boot\"]"
   ]
  },
  {
   "cell_type": "code",
   "execution_count": 7,
   "metadata": {},
   "outputs": [
    {
     "data": {
      "text/plain": [
       "'T-shirt/top'"
      ]
     },
     "execution_count": 7,
     "metadata": {},
     "output_type": "execute_result"
    }
   ],
   "source": [
    "class_names[y_train_full[1]]"
   ]
  },
  {
   "cell_type": "code",
   "execution_count": 8,
   "metadata": {},
   "outputs": [
    {
     "data": {
      "text/plain": [
       "array([[  0,   0,   0,   0,   0,   1,   0,   0,   0,   0,  41, 188, 103,\n",
       "         54,  48,  43,  87, 168, 133,  16,   0,   0,   0,   0,   0,   0,\n",
       "          0,   0],\n",
       "       [  0,   0,   0,   1,   0,   0,   0,  49, 136, 219, 216, 228, 236,\n",
       "        255, 255, 255, 255, 217, 215, 254, 231, 160,  45,   0,   0,   0,\n",
       "          0,   0],\n",
       "       [  0,   0,   0,   0,   0,  14, 176, 222, 224, 212, 203, 198, 196,\n",
       "        200, 215, 204, 202, 201, 201, 201, 209, 218, 224, 164,   0,   0,\n",
       "          0,   0],\n",
       "       [  0,   0,   0,   0,   0, 188, 219, 200, 198, 202, 198, 199, 199,\n",
       "        201, 196, 198, 198, 200, 200, 200, 200, 201, 200, 225,  41,   0,\n",
       "          0,   0],\n",
       "       [  0,   0,   0,   0,  51, 219, 199, 203, 203, 212, 238, 248, 250,\n",
       "        245, 249, 246, 247, 252, 248, 235, 207, 203, 203, 222, 140,   0,\n",
       "          0,   0],\n",
       "       [  0,   0,   0,   0, 116, 226, 206, 204, 207, 204, 101,  75,  47,\n",
       "         73,  48,  50,  45,  51,  63, 113, 222, 202, 206, 220, 224,   0,\n",
       "          0,   0],\n",
       "       [  0,   0,   0,   0, 200, 222, 209, 203, 215, 200,   0,  70,  98,\n",
       "          0, 103,  59,  68,  71,  49,   0, 219, 206, 214, 210, 250,  38,\n",
       "          0,   0],\n",
       "       [  0,   0,   0,   0, 247, 218, 212, 210, 215, 214,   0, 254, 243,\n",
       "        139, 255, 174, 251, 255, 205,   0, 215, 217, 214, 208, 220,  95,\n",
       "          0,   0],\n",
       "       [  0,   0,   0,  45, 226, 214, 214, 215, 224, 205,   0,  42,  35,\n",
       "         60,  16,  17,  12,  13,  70,   0, 189, 216, 212, 206, 212, 156,\n",
       "          0,   0],\n",
       "       [  0,   0,   0, 164, 235, 214, 211, 220, 216, 201,  52,  71,  89,\n",
       "         94,  83,  78,  70,  76,  92,  87, 206, 207, 222, 213, 219, 208,\n",
       "          0,   0],\n",
       "       [  0,   0,   0, 106, 187, 223, 237, 248, 211, 198, 252, 250, 248,\n",
       "        245, 248, 252, 253, 250, 252, 239, 201, 212, 225, 215, 193, 113,\n",
       "          0,   0],\n",
       "       [  0,   0,   0,   0,   0,  17,  54, 159, 222, 193, 208, 192, 197,\n",
       "        200, 200, 200, 200, 201, 203, 195, 210, 165,   0,   0,   0,   0,\n",
       "          0,   0],\n",
       "       [  0,   0,   0,   0,   0,   0,   0,  47, 225, 192, 214, 203, 206,\n",
       "        204, 204, 205, 206, 204, 212, 197, 218, 107,   0,   0,   0,   0,\n",
       "          0,   0],\n",
       "       [  0,   0,   0,   0,   1,   6,   0,  46, 212, 195, 212, 202, 206,\n",
       "        205, 204, 205, 206, 204, 212, 200, 218,  91,   0,   3,   1,   0,\n",
       "          0,   0],\n",
       "       [  0,   0,   0,   0,   0,   1,   0,  11, 197, 199, 205, 202, 205,\n",
       "        206, 204, 205, 207, 204, 205, 205, 218,  77,   0,   5,   0,   0,\n",
       "          0,   0],\n",
       "       [  0,   0,   0,   0,   0,   3,   0,   2, 191, 198, 201, 205, 206,\n",
       "        205, 205, 206, 209, 206, 199, 209, 219,  74,   0,   5,   0,   0,\n",
       "          0,   0],\n",
       "       [  0,   0,   0,   0,   0,   2,   0,   0, 188, 197, 200, 207, 207,\n",
       "        204, 207, 207, 210, 208, 198, 207, 221,  72,   0,   4,   0,   0,\n",
       "          0,   0],\n",
       "       [  0,   0,   0,   0,   0,   2,   0,   0, 215, 198, 203, 206, 208,\n",
       "        205, 207, 207, 210, 208, 200, 202, 222,  75,   0,   4,   0,   0,\n",
       "          0,   0],\n",
       "       [  0,   0,   0,   0,   0,   1,   0,   0, 212, 198, 209, 206, 209,\n",
       "        206, 208, 207, 211, 206, 205, 198, 221,  80,   0,   3,   0,   0,\n",
       "          0,   0],\n",
       "       [  0,   0,   0,   0,   0,   1,   0,   0, 204, 201, 205, 208, 207,\n",
       "        205, 211, 205, 210, 210, 209, 195, 221,  96,   0,   3,   0,   0,\n",
       "          0,   0],\n",
       "       [  0,   0,   0,   0,   0,   1,   0,   0, 202, 201, 205, 209, 207,\n",
       "        205, 213, 206, 210, 209, 210, 194, 217, 105,   0,   2,   0,   0,\n",
       "          0,   0],\n",
       "       [  0,   0,   0,   0,   0,   1,   0,   0, 204, 204, 205, 208, 207,\n",
       "        205, 215, 207, 210, 208, 211, 193, 213, 115,   0,   2,   0,   0,\n",
       "          0,   0],\n",
       "       [  0,   0,   0,   0,   0,   0,   0,   0, 204, 207, 207, 208, 206,\n",
       "        206, 215, 210, 210, 207, 212, 195, 210, 118,   0,   2,   0,   0,\n",
       "          0,   0],\n",
       "       [  0,   0,   0,   0,   0,   1,   0,   0, 198, 208, 208, 208, 204,\n",
       "        207, 212, 212, 210, 207, 211, 196, 207, 121,   0,   1,   0,   0,\n",
       "          0,   0],\n",
       "       [  0,   0,   0,   0,   0,   1,   0,   0, 198, 210, 207, 208, 206,\n",
       "        209, 213, 212, 211, 207, 210, 197, 207, 124,   0,   1,   0,   0,\n",
       "          0,   0],\n",
       "       [  0,   0,   0,   0,   0,   0,   0,   0, 172, 210, 203, 201, 199,\n",
       "        204, 207, 205, 204, 201, 205, 197, 206, 127,   0,   0,   0,   0,\n",
       "          0,   0],\n",
       "       [  0,   0,   0,   0,   0,   0,   0,   0, 188, 221, 214, 234, 236,\n",
       "        238, 244, 244, 244, 240, 243, 214, 224, 162,   0,   2,   0,   0,\n",
       "          0,   0],\n",
       "       [  0,   0,   0,   0,   0,   1,   0,   0, 139, 146, 130, 135, 135,\n",
       "        137, 125, 124, 125, 121, 119, 114, 130,  76,   0,   0,   0,   0,\n",
       "          0,   0]], dtype=uint8)"
      ]
     },
     "execution_count": 8,
     "metadata": {},
     "output_type": "execute_result"
    }
   ],
   "source": [
    "X_train_full[1]"
   ]
  },
  {
   "cell_type": "markdown",
   "metadata": {},
   "source": [
    "##### Data Normalization\n",
    "Normalize the data dimensions so that they are of approximately the same scale"
   ]
  },
  {
   "cell_type": "code",
   "execution_count": 9,
   "metadata": {},
   "outputs": [],
   "source": [
    "X_train_n = X_train_full / 255.\n",
    "X_test_n  = X_test / 255."
   ]
  },
  {
   "cell_type": "markdown",
   "metadata": {},
   "source": [
    "#### Split the Data Into Train/Validation/Test Datasets\n",
    "- **Training Data:** used for training the model\n",
    "- **Validation Data:** used for tuning the hyperparameters and evaluate the models\n",
    "- **Test Data:** used to test the model after the model has gone through initial vetting by the validation set."
   ]
  },
  {
   "cell_type": "code",
   "execution_count": 10,
   "metadata": {},
   "outputs": [],
   "source": [
    "X_valid, X_train = X_train_n[:5000], X_train_n[5000:]\n",
    "y_valid, y_train = y_train_full[:5000], y_train_full[5000:]\n",
    "X_test = X_test_n"
   ]
  },
  {
   "cell_type": "markdown",
   "metadata": {},
   "source": [
    "There are two main APIs for defining a model in Keras:\n",
    "- Sequential Model API\n",
    "- Functional API"
   ]
  },
  {
   "cell_type": "code",
   "execution_count": 11,
   "metadata": {},
   "outputs": [],
   "source": [
    "# set the random seed\n",
    "np.random.seed(42)\n",
    "tf.random.set_seed(42)"
   ]
  },
  {
   "cell_type": "code",
   "execution_count": 12,
   "metadata": {},
   "outputs": [],
   "source": [
    "model = keras.models.Sequential()\n",
    "# each pixel of the image is an imput\n",
    "model.add(keras.layers.Flatten(input_shape=[28,28]))\n",
    "# hidden layer 1\n",
    "model.add(keras.layers.Dense(300,activation=\"relu\"))\n",
    "#hidden layer 2\n",
    "model.add(keras.layers.Dense(100,activation=\"relu\"))\n",
    "# softmax activation\n",
    "model.add(keras.layers.Dense(10,activation=\"softmax\"))"
   ]
  },
  {
   "cell_type": "code",
   "execution_count": 13,
   "metadata": {},
   "outputs": [
    {
     "name": "stdout",
     "output_type": "stream",
     "text": [
      "Model: \"sequential\"\n",
      "_________________________________________________________________\n",
      "Layer (type)                 Output Shape              Param #   \n",
      "=================================================================\n",
      "flatten (Flatten)            (None, 784)               0         \n",
      "_________________________________________________________________\n",
      "dense (Dense)                (None, 300)               235500    \n",
      "_________________________________________________________________\n",
      "dense_1 (Dense)              (None, 100)               30100     \n",
      "_________________________________________________________________\n",
      "dense_2 (Dense)              (None, 10)                1010      \n",
      "=================================================================\n",
      "Total params: 266,610\n",
      "Trainable params: 266,610\n",
      "Non-trainable params: 0\n",
      "_________________________________________________________________\n"
     ]
    }
   ],
   "source": [
    "# provide a model of the summary\n",
    "model.summary()"
   ]
  },
  {
   "cell_type": "code",
   "execution_count": 14,
   "metadata": {},
   "outputs": [
    {
     "data": {
      "image/png": "[encoded data removed]",
      "text/plain": [
       "<IPython.core.display.Image object>"
      ]
     },
     "execution_count": 14,
     "metadata": {},
     "output_type": "execute_result"
    }
   ],
   "source": [
    "import pydot\n",
    "keras.utils.plot_model(model)"
   ]
  },
  {
   "cell_type": "markdown",
   "metadata": {},
   "source": [
    "Access the parameters usint the get_weight() method"
   ]
  },
  {
   "cell_type": "code",
   "execution_count": 15,
   "metadata": {},
   "outputs": [],
   "source": [
    "weights, biases = model.layers[1].get_weights()"
   ]
  },
  {
   "cell_type": "code",
   "execution_count": 16,
   "metadata": {},
   "outputs": [
    {
     "data": {
      "text/plain": [
       "array([[ 0.02448617, -0.00877795, -0.02189048, ..., -0.02766046,\n",
       "         0.03859074, -0.06889391],\n",
       "       [ 0.00476504, -0.03105379, -0.0586676 , ...,  0.00602964,\n",
       "        -0.02763776, -0.04165364],\n",
       "       [-0.06189284, -0.06901957,  0.07102345, ..., -0.04238207,\n",
       "         0.07121518, -0.07331658],\n",
       "       ...,\n",
       "       [-0.03048757,  0.02155137, -0.05400612, ..., -0.00113463,\n",
       "         0.00228987,  0.05581069],\n",
       "       [ 0.07061854, -0.06960931,  0.07038955, ..., -0.00384101,\n",
       "         0.00034875,  0.02878492],\n",
       "       [-0.06022581,  0.01577859, -0.02585464, ..., -0.00527829,\n",
       "         0.00272203, -0.06793761]], dtype=float32)"
      ]
     },
     "execution_count": 16,
     "metadata": {},
     "output_type": "execute_result"
    }
   ],
   "source": [
    "weights"
   ]
  },
  {
   "cell_type": "code",
   "execution_count": 17,
   "metadata": {},
   "outputs": [
    {
     "data": {
      "text/plain": [
       "(784, 300)"
      ]
     },
     "execution_count": 17,
     "metadata": {},
     "output_type": "execute_result"
    }
   ],
   "source": [
    "weights.shape"
   ]
  },
  {
   "cell_type": "code",
   "execution_count": 18,
   "metadata": {},
   "outputs": [
    {
     "data": {
      "text/plain": [
       "array([0., 0., 0., 0., 0., 0., 0., 0., 0., 0., 0., 0., 0., 0., 0., 0., 0.,\n",
       "       0., 0., 0., 0., 0., 0., 0., 0., 0., 0., 0., 0., 0., 0., 0., 0., 0.,\n",
       "       0., 0., 0., 0., 0., 0., 0., 0., 0., 0., 0., 0., 0., 0., 0., 0., 0.,\n",
       "       0., 0., 0., 0., 0., 0., 0., 0., 0., 0., 0., 0., 0., 0., 0., 0., 0.,\n",
       "       0., 0., 0., 0., 0., 0., 0., 0., 0., 0., 0., 0., 0., 0., 0., 0., 0.,\n",
       "       0., 0., 0., 0., 0., 0., 0., 0., 0., 0., 0., 0., 0., 0., 0., 0., 0.,\n",
       "       0., 0., 0., 0., 0., 0., 0., 0., 0., 0., 0., 0., 0., 0., 0., 0., 0.,\n",
       "       0., 0., 0., 0., 0., 0., 0., 0., 0., 0., 0., 0., 0., 0., 0., 0., 0.,\n",
       "       0., 0., 0., 0., 0., 0., 0., 0., 0., 0., 0., 0., 0., 0., 0., 0., 0.,\n",
       "       0., 0., 0., 0., 0., 0., 0., 0., 0., 0., 0., 0., 0., 0., 0., 0., 0.,\n",
       "       0., 0., 0., 0., 0., 0., 0., 0., 0., 0., 0., 0., 0., 0., 0., 0., 0.,\n",
       "       0., 0., 0., 0., 0., 0., 0., 0., 0., 0., 0., 0., 0., 0., 0., 0., 0.,\n",
       "       0., 0., 0., 0., 0., 0., 0., 0., 0., 0., 0., 0., 0., 0., 0., 0., 0.,\n",
       "       0., 0., 0., 0., 0., 0., 0., 0., 0., 0., 0., 0., 0., 0., 0., 0., 0.,\n",
       "       0., 0., 0., 0., 0., 0., 0., 0., 0., 0., 0., 0., 0., 0., 0., 0., 0.,\n",
       "       0., 0., 0., 0., 0., 0., 0., 0., 0., 0., 0., 0., 0., 0., 0., 0., 0.,\n",
       "       0., 0., 0., 0., 0., 0., 0., 0., 0., 0., 0., 0., 0., 0., 0., 0., 0.,\n",
       "       0., 0., 0., 0., 0., 0., 0., 0., 0., 0., 0.], dtype=float32)"
      ]
     },
     "execution_count": 18,
     "metadata": {},
     "output_type": "execute_result"
    }
   ],
   "source": [
    "biases"
   ]
  },
  {
   "cell_type": "code",
   "execution_count": 19,
   "metadata": {},
   "outputs": [
    {
     "data": {
      "text/plain": [
       "(300,)"
      ]
     },
     "execution_count": 19,
     "metadata": {},
     "output_type": "execute_result"
    }
   ],
   "source": [
    "biases.shape"
   ]
  },
  {
   "cell_type": "code",
   "execution_count": 20,
   "metadata": {},
   "outputs": [],
   "source": [
    "model.compile(loss=\"sparse_categorical_crossentropy\",\n",
    "             optimizer=\"sgd\",\n",
    "             metrics=[\"accuracy\"])"
   ]
  },
  {
   "cell_type": "code",
   "execution_count": 21,
   "metadata": {},
   "outputs": [
    {
     "name": "stdout",
     "output_type": "stream",
     "text": [
      "Train on 55000 samples, validate on 5000 samples\n",
      "Epoch 1/30\n",
      "55000/55000 [==============================] - 5s 93us/sample - loss: 0.7226 - accuracy: 0.7641 - val_loss: 0.5073 - val_accuracy: 0.8320\n",
      "Epoch 2/30\n",
      "55000/55000 [==============================] - 4s 76us/sample - loss: 0.4843 - accuracy: 0.8323 - val_loss: 0.4546 - val_accuracy: 0.8478\n",
      "Epoch 3/30\n",
      "55000/55000 [==============================] - 4s 74us/sample - loss: 0.4413 - accuracy: 0.8463 - val_loss: 0.4396 - val_accuracy: 0.8486\n",
      "Epoch 4/30\n",
      "55000/55000 [==============================] - 4s 80us/sample - loss: 0.4128 - accuracy: 0.8546 - val_loss: 0.4155 - val_accuracy: 0.8562\n",
      "Epoch 5/30\n",
      "55000/55000 [==============================] - 5s 85us/sample - loss: 0.3926 - accuracy: 0.8614 - val_loss: 0.3812 - val_accuracy: 0.8642\n",
      "Epoch 6/30\n",
      "55000/55000 [==============================] - 4s 79us/sample - loss: 0.3769 - accuracy: 0.8664 - val_loss: 0.3727 - val_accuracy: 0.8680\n",
      "Epoch 7/30\n",
      "55000/55000 [==============================] - 4s 74us/sample - loss: 0.3624 - accuracy: 0.8726 - val_loss: 0.3699 - val_accuracy: 0.8710\n",
      "Epoch 8/30\n",
      "55000/55000 [==============================] - 4s 74us/sample - loss: 0.3516 - accuracy: 0.8747 - val_loss: 0.3654 - val_accuracy: 0.8698\n",
      "Epoch 9/30\n",
      "55000/55000 [==============================] - 4s 72us/sample - loss: 0.3419 - accuracy: 0.8771 - val_loss: 0.3438 - val_accuracy: 0.8788\n",
      "Epoch 10/30\n",
      "55000/55000 [==============================] - 4s 70us/sample - loss: 0.3325 - accuracy: 0.8808 - val_loss: 0.3515 - val_accuracy: 0.8774\n",
      "Epoch 11/30\n",
      "55000/55000 [==============================] - 4s 64us/sample - loss: 0.3241 - accuracy: 0.8837 - val_loss: 0.3361 - val_accuracy: 0.8814\n",
      "Epoch 12/30\n",
      "55000/55000 [==============================] - 4s 65us/sample - loss: 0.3160 - accuracy: 0.8869 - val_loss: 0.3305 - val_accuracy: 0.8838\n",
      "Epoch 13/30\n",
      "55000/55000 [==============================] - 4s 68us/sample - loss: 0.3073 - accuracy: 0.8903 - val_loss: 0.3323 - val_accuracy: 0.8826\n",
      "Epoch 14/30\n",
      "55000/55000 [==============================] - 4s 66us/sample - loss: 0.3017 - accuracy: 0.8922 - val_loss: 0.3224 - val_accuracy: 0.8864\n",
      "Epoch 15/30\n",
      "55000/55000 [==============================] - 4s 65us/sample - loss: 0.2952 - accuracy: 0.8939 - val_loss: 0.3164 - val_accuracy: 0.8882\n",
      "Epoch 16/30\n",
      "55000/55000 [==============================] - 4s 64us/sample - loss: 0.2897 - accuracy: 0.8963 - val_loss: 0.3243 - val_accuracy: 0.8866\n",
      "Epoch 17/30\n",
      "55000/55000 [==============================] - 4s 67us/sample - loss: 0.2835 - accuracy: 0.8987 - val_loss: 0.3176 - val_accuracy: 0.8904\n",
      "Epoch 18/30\n",
      "55000/55000 [==============================] - 4s 64us/sample - loss: 0.2784 - accuracy: 0.8995 - val_loss: 0.3094 - val_accuracy: 0.8910\n",
      "Epoch 19/30\n",
      "55000/55000 [==============================] - 4s 65us/sample - loss: 0.2731 - accuracy: 0.9016 - val_loss: 0.3189 - val_accuracy: 0.8842\n",
      "Epoch 20/30\n",
      "55000/55000 [==============================] - 4s 65us/sample - loss: 0.2681 - accuracy: 0.9040 - val_loss: 0.3206 - val_accuracy: 0.8856\n",
      "Epoch 21/30\n",
      "55000/55000 [==============================] - 4s 65us/sample - loss: 0.2635 - accuracy: 0.9046 - val_loss: 0.2985 - val_accuracy: 0.8956\n",
      "Epoch 22/30\n",
      "55000/55000 [==============================] - 5s 90us/sample - loss: 0.2576 - accuracy: 0.9072 - val_loss: 0.3086 - val_accuracy: 0.8878\n",
      "Epoch 23/30\n",
      "55000/55000 [==============================] - 4s 79us/sample - loss: 0.2539 - accuracy: 0.9089 - val_loss: 0.2983 - val_accuracy: 0.8896\n",
      "Epoch 24/30\n",
      "55000/55000 [==============================] - 5s 84us/sample - loss: 0.2492 - accuracy: 0.9105 - val_loss: 0.3091 - val_accuracy: 0.8858\n",
      "Epoch 25/30\n",
      "55000/55000 [==============================] - 5s 88us/sample - loss: 0.2454 - accuracy: 0.9121 - val_loss: 0.3084 - val_accuracy: 0.8904\n",
      "Epoch 26/30\n",
      "55000/55000 [==============================] - 5s 87us/sample - loss: 0.2409 - accuracy: 0.9145 - val_loss: 0.3222 - val_accuracy: 0.8834\n",
      "Epoch 27/30\n",
      "55000/55000 [==============================] - 5s 87us/sample - loss: 0.2369 - accuracy: 0.9152 - val_loss: 0.3138 - val_accuracy: 0.8860\n",
      "Epoch 28/30\n",
      "55000/55000 [==============================] - 4s 80us/sample - loss: 0.2323 - accuracy: 0.9177 - val_loss: 0.2919 - val_accuracy: 0.8934\n",
      "Epoch 29/30\n",
      "55000/55000 [==============================] - 4s 76us/sample - loss: 0.2287 - accuracy: 0.9182 - val_loss: 0.2969 - val_accuracy: 0.8932\n",
      "Epoch 30/30\n",
      "55000/55000 [==============================] - 4s 73us/sample - loss: 0.2256 - accuracy: 0.9197 - val_loss: 0.2981 - val_accuracy: 0.8928\n"
     ]
    }
   ],
   "source": [
    "model_history = model.fit(X_train, y_train, epochs=30,\n",
    "                         validation_data=(X_valid, y_valid))"
   ]
  },
  {
   "cell_type": "code",
   "execution_count": 22,
   "metadata": {},
   "outputs": [
    {
     "data": {
      "text/plain": [
       "{'batch_size': 32,\n",
       " 'epochs': 30,\n",
       " 'steps': 1719,\n",
       " 'samples': 55000,\n",
       " 'verbose': 0,\n",
       " 'do_validation': True,\n",
       " 'metrics': ['loss', 'accuracy', 'val_loss', 'val_accuracy']}"
      ]
     },
     "execution_count": 22,
     "metadata": {},
     "output_type": "execute_result"
    }
   ],
   "source": [
    "model_history.params"
   ]
  },
  {
   "cell_type": "code",
   "execution_count": 23,
   "metadata": {
    "scrolled": true
   },
   "outputs": [
    {
     "data": {
      "text/plain": [
       "{'loss': [0.7225697039777582,\n",
       "  0.4843224787755446,\n",
       "  0.4412506365515969,\n",
       "  0.412824481530623,\n",
       "  0.3925637992295352,\n",
       "  0.3769139765175906,\n",
       "  0.3624008669333024,\n",
       "  0.35160285770026123,\n",
       "  0.34194327291575344,\n",
       "  0.33252359673326665,\n",
       "  0.3240769441431219,\n",
       "  0.31599930385676295,\n",
       "  0.3072553581324491,\n",
       "  0.3017400986628099,\n",
       "  0.2952222750988874,\n",
       "  0.28974686973961916,\n",
       "  0.28349404212344775,\n",
       "  0.27837227577729656,\n",
       "  0.2730784975008531,\n",
       "  0.268142094540596,\n",
       "  0.2634582347566431,\n",
       "  0.257577385412563,\n",
       "  0.25392633698636835,\n",
       "  0.24923982545462522,\n",
       "  0.24542631996761669,\n",
       "  0.24091554515145042,\n",
       "  0.23687009863745082,\n",
       "  0.2322714460914785,\n",
       "  0.2286633168426427,\n",
       "  0.22560920379595323],\n",
       " 'accuracy': [0.7641091,\n",
       "  0.83230907,\n",
       "  0.84632725,\n",
       "  0.8546,\n",
       "  0.86143637,\n",
       "  0.8663818,\n",
       "  0.87256366,\n",
       "  0.8746909,\n",
       "  0.87709093,\n",
       "  0.88083637,\n",
       "  0.8836727,\n",
       "  0.8869454,\n",
       "  0.89034545,\n",
       "  0.8921818,\n",
       "  0.8939273,\n",
       "  0.8962909,\n",
       "  0.8987091,\n",
       "  0.89945453,\n",
       "  0.90156364,\n",
       "  0.9039818,\n",
       "  0.90458184,\n",
       "  0.90723634,\n",
       "  0.90885454,\n",
       "  0.91049093,\n",
       "  0.91214544,\n",
       "  0.9145455,\n",
       "  0.91516364,\n",
       "  0.91769093,\n",
       "  0.91818184,\n",
       "  0.9196727],\n",
       " 'val_loss': [0.5073352079868316,\n",
       "  0.45455191872119904,\n",
       "  0.43955866351127626,\n",
       "  0.4155306915998459,\n",
       "  0.38115835115909574,\n",
       "  0.37274537017345427,\n",
       "  0.36993895552158357,\n",
       "  0.3654321666061878,\n",
       "  0.34376594257354737,\n",
       "  0.3515204844713211,\n",
       "  0.3360765465140343,\n",
       "  0.3305273154973984,\n",
       "  0.33226100611686704,\n",
       "  0.3224181907057762,\n",
       "  0.3164406816244125,\n",
       "  0.32434701566696167,\n",
       "  0.3175948435783386,\n",
       "  0.30935815551280976,\n",
       "  0.31893717510700226,\n",
       "  0.3205733841061592,\n",
       "  0.2984842890024185,\n",
       "  0.30863840408325194,\n",
       "  0.298273769903183,\n",
       "  0.3090655074059963,\n",
       "  0.30841694130897523,\n",
       "  0.32223449479937555,\n",
       "  0.31376548208594324,\n",
       "  0.2919307446837425,\n",
       "  0.29689096699953077,\n",
       "  0.298132716101408],\n",
       " 'val_accuracy': [0.832,\n",
       "  0.8478,\n",
       "  0.8486,\n",
       "  0.8562,\n",
       "  0.8642,\n",
       "  0.868,\n",
       "  0.871,\n",
       "  0.8698,\n",
       "  0.8788,\n",
       "  0.8774,\n",
       "  0.8814,\n",
       "  0.8838,\n",
       "  0.8826,\n",
       "  0.8864,\n",
       "  0.8882,\n",
       "  0.8866,\n",
       "  0.8904,\n",
       "  0.891,\n",
       "  0.8842,\n",
       "  0.8856,\n",
       "  0.8956,\n",
       "  0.8878,\n",
       "  0.8896,\n",
       "  0.8858,\n",
       "  0.8904,\n",
       "  0.8834,\n",
       "  0.886,\n",
       "  0.8934,\n",
       "  0.8932,\n",
       "  0.8928]}"
      ]
     },
     "execution_count": 23,
     "metadata": {},
     "output_type": "execute_result"
    }
   ],
   "source": [
    "model_history.history"
   ]
  },
  {
   "cell_type": "code",
   "execution_count": 24,
   "metadata": {},
   "outputs": [
    {
     "data": {
      "image/png": "[encoded data removed]",
      "text/plain": [
       "<Figure size 576x360 with 1 Axes>"
      ]
     },
     "metadata": {
      "needs_background": "light"
     },
     "output_type": "display_data"
    }
   ],
   "source": [
    "pd.DataFrame(model_history.history).plot(figsize=(8,5))\n",
    "plt.grid(True)\n",
    "plt.gca().set_ylim(0,1)\n",
    "plt.show()"
   ]
  },
  {
   "cell_type": "code",
   "execution_count": 26,
   "metadata": {},
   "outputs": [
    {
     "name": "stdout",
     "output_type": "stream",
     "text": [
      "10000/10000 [==============================] - 0s 39us/sample - loss: 0.3323 - accuracy: 0.8794\n"
     ]
    },
    {
     "data": {
      "text/plain": [
       "[0.3323081064462662, 0.8794]"
      ]
     },
     "execution_count": 26,
     "metadata": {},
     "output_type": "execute_result"
    }
   ],
   "source": [
    "# evluaate the model with the test data\n",
    "model.evaluate(X_test, y_test)\n",
    "# outputs loss and accuracy"
   ]
  },
  {
   "cell_type": "code",
   "execution_count": 27,
   "metadata": {},
   "outputs": [],
   "source": [
    "# take the first three samples from the dataset for now, since no new data\n",
    "X_new = X_test[:3]"
   ]
  },
  {
   "cell_type": "code",
   "execution_count": 28,
   "metadata": {},
   "outputs": [
    {
     "data": {
      "text/plain": [
       "array([[0.  , 0.  , 0.  , 0.  , 0.  , 0.  , 0.  , 0.01, 0.  , 0.98],\n",
       "       [0.  , 0.  , 0.99, 0.  , 0.  , 0.  , 0.  , 0.  , 0.  , 0.  ],\n",
       "       [0.  , 1.  , 0.  , 0.  , 0.  , 0.  , 0.  , 0.  , 0.  , 0.  ]],\n",
       "      dtype=float32)"
      ]
     },
     "execution_count": 28,
     "metadata": {},
     "output_type": "execute_result"
    }
   ],
   "source": [
    "y_proba = model.predict(X_new)\n",
    "y_proba.round(2)"
   ]
  },
  {
   "cell_type": "code",
   "execution_count": 29,
   "metadata": {},
   "outputs": [
    {
     "data": {
      "text/plain": [
       "array([9, 2, 1], dtype=int64)"
      ]
     },
     "execution_count": 29,
     "metadata": {},
     "output_type": "execute_result"
    }
   ],
   "source": [
    "y_pred = model.predict_classes(X_new)\n",
    "y_pred"
   ]
  },
  {
   "cell_type": "code",
   "execution_count": 30,
   "metadata": {},
   "outputs": [
    {
     "data": {
      "text/plain": [
       "array(['Ankle Boot', 'Pullover', 'Trouser'], dtype='<U11')"
      ]
     },
     "execution_count": 30,
     "metadata": {},
     "output_type": "execute_result"
    }
   ],
   "source": [
    "np.array(class_names)[y_pred]"
   ]
  },
  {
   "cell_type": "code",
   "execution_count": 31,
   "metadata": {},
   "outputs": [
    {
     "name": "stdout",
     "output_type": "stream",
     "text": [
      "AxesImage(54,36;334.8x217.44)\n"
     ]
    },
    {
     "data": {
      "image/png": "[encoded data removed]",
      "text/plain": [
       "<Figure size 432x288 with 1 Axes>"
      ]
     },
     "metadata": {
      "needs_background": "light"
     },
     "output_type": "display_data"
    }
   ],
   "source": [
    "print(plt.imshow(X_test[0]))"
   ]
  },
  {
   "cell_type": "code",
   "execution_count": 32,
   "metadata": {},
   "outputs": [
    {
     "name": "stdout",
     "output_type": "stream",
     "text": [
      "AxesImage(54,36;334.8x217.44)\n"
     ]
    },
    {
     "data": {
      "image/png": "[encoded data removed]",
      "text/plain": [
       "<Figure size 432x288 with 1 Axes>"
      ]
     },
     "metadata": {
      "needs_background": "light"
     },
     "output_type": "display_data"
    }
   ],
   "source": [
    "print(plt.imshow(X_test[1]))"
   ]
  },
  {
   "cell_type": "code",
   "execution_count": 33,
   "metadata": {},
   "outputs": [
    {
     "name": "stdout",
     "output_type": "stream",
     "text": [
      "AxesImage(54,36;334.8x217.44)\n"
     ]
    },
    {
     "data": {
      "image/png": "[encoded data removed]",
      "text/plain": [
       "<Figure size 432x288 with 1 Axes>"
      ]
     },
     "metadata": {
      "needs_background": "light"
     },
     "output_type": "display_data"
    }
   ],
   "source": [
    "print(plt.imshow(X_test[3]))"
   ]
  },
  {
   "cell_type": "code",
   "execution_count": null,
   "metadata": {},
   "outputs": [],
   "source": []
  }
 ],
 "metadata": {
  "kernelspec": {
   "display_name": "Python 3",
   "language": "python",
   "name": "python3"
  },
  "language_info": {
   "codemirror_mode": {
    "name": "ipython",
    "version": 3
   },
   "file_extension": ".py",
   "mimetype": "text/x-python",
   "name": "python",
   "nbconvert_exporter": "python",
   "pygments_lexer": "ipython3",
   "version": "3.7.4"
  }
 },
 "nbformat": 4,
 "nbformat_minor": 4
}
